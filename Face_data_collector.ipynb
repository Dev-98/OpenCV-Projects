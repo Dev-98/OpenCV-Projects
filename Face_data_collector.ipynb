{
 "cells": [
  {
   "cell_type": "code",
   "execution_count": 12,
   "id": "dba83e3d",
   "metadata": {},
   "outputs": [
    {
     "name": "stdout",
     "output_type": "stream",
     "text": [
      "Enter you name : Dev\n"
     ]
    }
   ],
   "source": [
    "import numpy as np\n",
    "import cv2\n",
    "import os \n",
    "\n",
    "video = cv2.VideoCapture(0)\n",
    "\n",
    "detector = cv2.CascadeClassifier('C:\\\\Users\\\\Dev Gupta\\\\Documents\\\\python\\\\Face recognization\\\\haarcascade_frontalface_default.xml')\n",
    "\n",
    "name = input('Enter you name : ')\n",
    "\n",
    "frames = []\n",
    "output = []\n",
    "\n",
    "while True:\n",
    "\n",
    "    ret, frame = video.read()\n",
    "\n",
    "    if ret:\n",
    "\n",
    "        faces = detector.detectMultiScale(frame)\n",
    "\n",
    "        for face in faces:\n",
    "\n",
    "            x, y, w, h = face\n",
    "            \n",
    "            cut = frame[y:y+h , x:x+w]\n",
    "            fix = cv2.resize(cut,(200,200))\n",
    "            gray = cv2.cvtColor(fix,cv2.COLOR_BGR2GRAY)\n",
    "        \n",
    "        cv2.imshow('My screen',frame)\n",
    "        # cv2.imshow('My face',gray)\n",
    "\n",
    "    key = cv2.waitKey(1)\n",
    "    if key == ord('q'):\n",
    "        break\n",
    "    if key == ord('c'):\n",
    "        # cv2.imwrite(name+'.jpg',frame)\n",
    "        frames.append(gray.flatten())\n",
    "        output.append([name])\n",
    "\n",
    "x = np.array(frames)\n",
    "y = np.array(output)\n",
    "\n",
    "data = np.hstack([y,x])\n",
    "\n",
    "data_name = 'all_face_data.npy'\n",
    "# print(data.shape)\n",
    "\n",
    "if os.path.exists(data_name):\n",
    "    old = np.load(data_name)\n",
    "    data = np.vstack([old,data])\n",
    "   \n",
    "np.save(data_name,data)\n",
    "\n",
    "video.release()\n",
    "cv2.destroyAllWindows()\n"
   ]
  },
  {
   "cell_type": "code",
   "execution_count": null,
   "id": "0cc55738",
   "metadata": {},
   "outputs": [],
   "source": []
  },
  {
   "cell_type": "markdown",
   "id": "e15e43b5",
   "metadata": {},
   "source": [
    "# Face mood data collection code\n"
   ]
  },
  {
   "cell_type": "code",
   "execution_count": 7,
   "id": "a7788f31",
   "metadata": {},
   "outputs": [
    {
     "name": "stdout",
     "output_type": "stream",
     "text": [
      "Enter your mood :Angry\n"
     ]
    }
   ],
   "source": [
    "import cv2\n",
    "import dlib\n",
    "import os\n",
    "import numpy as np\n",
    "\n",
    "\n",
    "video = cv2.VideoCapture(0)\n",
    "\n",
    "detector = dlib.get_frontal_face_detector()\n",
    "predictor = dlib.shape_predictor('C:\\\\Users\\\\Dev Gupta\\\\Documents\\\\python\\\\Face recognization\\\\shape_predictor_68_face_landmarks.dat')\n",
    "\n",
    "frames_ = []\n",
    "out = []\n",
    "\n",
    "mood = input('Enter your mood :')\n",
    "\n",
    "while True :\n",
    "    \n",
    "    ret , frame = video.read()\n",
    "    gray = cv2.cvtColor(frame,cv2.COLOR_BGR2GRAY) \n",
    "\n",
    "    faces = detector(gray)\n",
    "    \n",
    "    for face in faces:\n",
    "        \n",
    "        landmark = predictor(gray,face)\n",
    "        \n",
    "        expression = np.array([[point.x, point.y] for point in landmark.parts()[17:]])\n",
    "        \n",
    "    \n",
    "    if ret:\n",
    "        \n",
    "        cv2.imshow('yoyoy',frame)\n",
    "        \n",
    "    key = cv2.waitKey(1)\n",
    "    if key == ord('q'):\n",
    "        break\n",
    "    if key == ord('c'):\n",
    "        # cv2.imwrite(name+'.jpg',frame)\n",
    "        frames_.append(expression.flatten())\n",
    "        out.append([mood])\n",
    "\n",
    "x = np.array(frames_)\n",
    "y = np.array(out)\n",
    "\n",
    "data = np.hstack([y,x])\n",
    "\n",
    "data_name = 'face_mood_data2.npy'\n",
    "# print(data.shape)\n",
    "\n",
    "if os.path.exists(data_name):\n",
    "    old = np.load(data_name)\n",
    "    data = np.vstack([old,data])\n",
    "   \n",
    "np.save(data_name,data)\n",
    "\n",
    "video.release()\n",
    "cv2.destroyAllWindows()"
   ]
  },
  {
   "cell_type": "code",
   "execution_count": 14,
   "id": "70549821",
   "metadata": {},
   "outputs": [],
   "source": [
    "facce  = np.load('all_face_data.npy')"
   ]
  },
  {
   "cell_type": "code",
   "execution_count": 15,
   "id": "bfb1e28b",
   "metadata": {},
   "outputs": [
    {
     "data": {
      "text/plain": [
       "(38, 40001)"
      ]
     },
     "execution_count": 15,
     "metadata": {},
     "output_type": "execute_result"
    }
   ],
   "source": [
    "facce.shape"
   ]
  },
  {
   "cell_type": "code",
   "execution_count": 13,
   "id": "5403148f",
   "metadata": {},
   "outputs": [
    {
     "name": "stdout",
     "output_type": "stream",
     "text": [
      "Note: you may need to restart the kernel to use updated packages.Collecting keyboard\n",
      "\n",
      "  Downloading keyboard-0.13.5-py3-none-any.whl (58 kB)\n",
      "     -------------------------------------- 58.1/58.1 kB 278.2 kB/s eta 0:00:00\n",
      "Installing collected packages: keyboard\n",
      "Successfully installed keyboard-0.13.5\n"
     ]
    }
   ],
   "source": [
    "pip install keyboard"
   ]
  },
  {
   "cell_type": "code",
   "execution_count": null,
   "id": "14d351cc",
   "metadata": {},
   "outputs": [],
   "source": []
  }
 ],
 "metadata": {
  "kernelspec": {
   "display_name": "Python 3 (ipykernel)",
   "language": "python",
   "name": "python3"
  },
  "language_info": {
   "codemirror_mode": {
    "name": "ipython",
    "version": 3
   },
   "file_extension": ".py",
   "mimetype": "text/x-python",
   "name": "python",
   "nbconvert_exporter": "python",
   "pygments_lexer": "ipython3",
   "version": "3.10.2"
  }
 },
 "nbformat": 4,
 "nbformat_minor": 5
}
